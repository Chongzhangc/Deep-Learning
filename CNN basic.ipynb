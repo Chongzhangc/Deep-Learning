{
 "cells": [
  {
   "cell_type": "markdown",
   "metadata": {
    "id": "gGr4OuLjUa0C"
   },
   "source": [
    "Please mount your Google drive, and set up your working folder path here."
   ]
  },
  {
   "cell_type": "code",
   "execution_count": null,
   "metadata": {
    "colab": {
     "base_uri": "https://localhost:8080/"
    },
    "executionInfo": {
     "elapsed": 177,
     "status": "ok",
     "timestamp": 1628106959518,
     "user": {
      "displayName": "Lichun Li",
      "photoUrl": "",
      "userId": "15395584703944545137"
     },
     "user_tz": 240
    },
    "id": "vgLRBWTyrWuy",
    "outputId": "e61a9372-e4d4-4b90-e65d-d455711f7134"
   },
   "outputs": [
    {
     "name": "stdout",
     "output_type": "stream",
     "text": [
      "Drive already mounted at /content/drive; to attempt to forcibly remount, call drive.mount(\"/content/drive\", force_remount=True).\n"
     ]
    }
   ],
   "source": [
    "from google.colab import drive\n",
    "drive.mount('/content/drive')"
   ]
  },
  {
   "cell_type": "code",
   "execution_count": null,
   "metadata": {
    "id": "MWxDp2p5z1N6"
   },
   "outputs": [],
   "source": [
    "import os\n",
    "# start your code here\n",
    "os.chdir(\"/content/drive/MyDrive/day3\") # change your working folder here\n",
    "# end your code here"
   ]
  },
  {
   "cell_type": "markdown",
   "metadata": {
    "id": "gtCT9YhKzJGk"
   },
   "source": [
    "# Convolutional Neural Networks: Gesture Classification\n",
    "\n",
    "Welcome to our thrid module! In this notebook, you will:\n",
    "\n",
    "- Implement a fully functioning ConvNet using TensorFlow \n",
    "\n",
    "**After this assignment you will be able to:**\n",
    "\n",
    "- Build and train a ConvNet in TensorFlow for a classification problem \n",
    "\n",
    "We assume here that you are already familiar with TensorFlow. "
   ]
  },
  {
   "cell_type": "markdown",
   "metadata": {
    "id": "3eikfPvXzJGn"
   },
   "source": [
    "## 1.0 - TensorFlow model\n",
    "\n",
    "As usual, we will start by loading in the packages. \n"
   ]
  },
  {
   "cell_type": "code",
   "execution_count": 44,
   "metadata": {
    "id": "HZKX0DrOzJGo"
   },
   "outputs": [],
   "source": [
    "import math\n",
    "import numpy as np\n",
    "import h5py\n",
    "import matplotlib.pyplot as plt\n",
    "import scipy\n",
    "from PIL import Image\n",
    "import tensorflow as tf\n",
    "from tensorflow.python.framework import ops\n",
    "from tensorflow.keras import datasets, layers, models\n",
    "from cnn_utils import *\n",
    "\n",
    "%matplotlib inline\n",
    "np.random.seed(1)\n",
    "tf.random.set_seed(1234)"
   ]
  },
  {
   "cell_type": "markdown",
   "metadata": {
    "id": "-mH0FbyVzJGo"
   },
   "source": [
    "Run the next cell to load the \"SIGNS\" dataset you are going to use."
   ]
  },
  {
   "cell_type": "code",
   "execution_count": 2,
   "metadata": {
    "id": "7FaF-i0nzJGp"
   },
   "outputs": [],
   "source": [
    "# Loading the data (signs)\n",
    "X_train_orig, Y_train_orig, X_test_orig, Y_test_orig, classes = load_dataset()"
   ]
  },
  {
   "cell_type": "markdown",
   "metadata": {
    "id": "6b_2DdXRzJGp"
   },
   "source": [
    "As a reminder, the SIGNS dataset is a collection of 6 signs representing numbers from 0 to 5.\n",
    "\n",
    "![alt text](https://drive.google.com/uc?id=1db9mIM_lD4StTKhab9nfLfdCSLjXG3Cf)\n",
    "The next cell will show you an example of a labelled image in the dataset. Feel free to change the value of `index` below and re-run to see different examples. "
   ]
  },
  {
   "cell_type": "code",
   "execution_count": 3,
   "metadata": {
    "colab": {
     "base_uri": "https://localhost:8080/",
     "height": 285
    },
    "executionInfo": {
     "elapsed": 355,
     "status": "ok",
     "timestamp": 1628106960374,
     "user": {
      "displayName": "Lichun Li",
      "photoUrl": "",
      "userId": "15395584703944545137"
     },
     "user_tz": 240
    },
    "id": "SkLqPXQDzJGp",
    "outputId": "0edf8dc5-feb9-4bd5-c2f2-fbeea68a51b1"
   },
   "outputs": [
    {
     "name": "stdout",
     "output_type": "stream",
     "text": [
      "y = 2\n"
     ]
    },
    {
     "data": {
      "image/png": "[encoded data removed]",
      "text/plain": [
       "<Figure size 432x288 with 1 Axes>"
      ]
     },
     "metadata": {
      "needs_background": "light"
     },
     "output_type": "display_data"
    }
   ],
   "source": [
    "# Example of a picture\n",
    "index = 1000\n",
    "plt.imshow(X_train_orig[index])\n",
    "print (\"y = \" + str(np.squeeze(Y_train_orig[:, index])))"
   ]
  },
  {
   "cell_type": "markdown",
   "metadata": {
    "id": "tZgKdERozJGq"
   },
   "source": [
    "To get started, let's examine the shapes of your data. "
   ]
  },
  {
   "cell_type": "code",
   "execution_count": 4,
   "metadata": {
    "colab": {
     "base_uri": "https://localhost:8080/"
    },
    "executionInfo": {
     "elapsed": 17,
     "status": "ok",
     "timestamp": 1628106960375,
     "user": {
      "displayName": "Lichun Li",
      "photoUrl": "",
      "userId": "15395584703944545137"
     },
     "user_tz": 240
    },
    "id": "c-4uG22tzJGr",
    "outputId": "0106b777-c6c2-4aa6-c4ce-e5b573de6684"
   },
   "outputs": [
    {
     "name": "stdout",
     "output_type": "stream",
     "text": [
      "number of training examples = 1080\n",
      "number of test examples = 120\n",
      "X_train shape: (1080, 64, 64, 3)\n",
      "Y_train shape: (1080, 6)\n",
      "X_test shape: (120, 64, 64, 3)\n",
      "Y_test shape: (120, 6)\n"
     ]
    }
   ],
   "source": [
    "# what do the following two lines do?\n",
    "X_train = X_train_orig/255.\n",
    "X_test = X_test_orig/255.\n",
    "\n",
    "# Next, we will convert the value 0,1,2,3,4,5 to a one-hot column. \n",
    "Y_train = convert_to_one_hot(Y_train_orig, 6).T\n",
    "Y_test = convert_to_one_hot(Y_test_orig, 6).T\n",
    "print (\"number of training examples = \" + str(X_train.shape[0]))\n",
    "print (\"number of test examples = \" + str(X_test.shape[0]))\n",
    "print (\"X_train shape: \" + str(X_train.shape))\n",
    "print (\"Y_train shape: \" + str(Y_train.shape))\n",
    "print (\"X_test shape: \" + str(X_test.shape))\n",
    "print (\"Y_test shape: \" + str(Y_test.shape))\n",
    "conv_layers = {}"
   ]
  },
  {
   "cell_type": "markdown",
   "metadata": {
    "id": "HtVo2LWdzJGr"
   },
   "source": [
    "### 1.1 - Create the convolutional base\n",
    "\n",
    "In TensorFlow, there are built-in functions that carry out the convolution steps for you.\n",
    "\n",
    "- **tf.keras.models.Sequential()** groups a linear stack of layers into a neural networt model. You can read the full documentation [here](https://www.tensorflow.org/api_docs/python/tf/keras/Sequential)\n",
    "- **tf.keras.layers.Conv2D(filters, kernel_size, strides=(1, 1), padding='valid', activation=None, input_shape=(32, 32, 3), kernel_initializer='glorot_uniform'):** 'filters' specifies the number of filters in this Conv layer. 'kernel_size' indicates the height and the width of the filters, e.g., (3,3) means a 3 by 3 filter. The third input 'strides' represents the strides for the height and the width of the input (n_H_prev, n_W_prev) with default value (1,1). 'padding' can be 'valid'(default) or 'same'. You can choose your activation function in the input 'activation'. You may want to specify your image shape in 'input_shape'. (32,32,3) means this is a 32 by 32 RGB image. 'kernel_initializer' specifies how you want to initialize your filter. You can read the full documentation [here](https://www.tensorflow.org/api_docs/python/tf/keras/layers/Conv2D)\n",
    "- **tf.keras.layers.MaxPooling2D(pool_size=(f, f), strides=(s,s), padding='valid'):** this function uses a window of size (f, f) and strides of size (s, s) to carry out max pooling over each window. You can read the full documentation [here](https://www.tensorflow.org/api_docs/python/tf/keras/layers/MaxPool2D)\n",
    "\n",
    "**Exercise**: \n",
    "\n",
    "Build the following model: `CONV2D -> MAXPOOL -> CONV2D -> MAXPOOL`. You should use the functions above. \n",
    "\n",
    "In detail, we will use the following parameters for all the steps:\n",
    "\n",
    "     - Conv2D: 8 filters with size (4,4), stride 1, padding is \"same\", activation function is 'Relu', input_shape=(64,64,3), filter initializer is 'glorot_uniform'\n",
    "     - Max pool: Use an 8 by 8 filter size and an 8 by 8 stride, padding is \"same\"\n",
    "     - Conv2D: 16 filters with size (2,2), stride 1, padding is \"same\", activation function is 'Relu', filter initializer is 'glorot_uniform', input shape will be decided automatically\n",
    "     - Max pool: Use a 4 by 4 filter size and a 4 by 4 stride, padding is \"same\""
   ]
  },
  {
   "cell_type": "code",
   "execution_count": 13,
   "metadata": {
    "colab": {
     "base_uri": "https://localhost:8080/"
    },
    "executionInfo": {
     "elapsed": 16,
     "status": "ok",
     "timestamp": 1628106960376,
     "user": {
      "displayName": "Lichun Li",
      "photoUrl": "",
      "userId": "15395584703944545137"
     },
     "user_tz": 240
    },
    "id": "1l6pEKH4zJGs",
    "outputId": "27efbc37-93b1-4f37-bf03-7f9622b4fa01"
   },
   "outputs": [
    {
     "name": "stdout",
     "output_type": "stream",
     "text": [
      "Model: \"sequential_1\"\n",
      "_________________________________________________________________\n",
      " Layer (type)                Output Shape              Param #   \n",
      "=================================================================\n",
      " conv2d_2 (Conv2D)           (None, 64, 64, 8)         392       \n",
      "                                                                 \n",
      " max_pooling2d_1 (MaxPooling  (None, 8, 8, 8)          0         \n",
      " 2D)                                                             \n",
      "                                                                 \n",
      " conv2d_3 (Conv2D)           (None, 8, 8, 16)          528       \n",
      "                                                                 \n",
      " max_pooling2d_2 (MaxPooling  (None, 2, 2, 16)         0         \n",
      " 2D)                                                             \n",
      "                                                                 \n",
      "=================================================================\n",
      "Total params: 920\n",
      "Trainable params: 920\n",
      "Non-trainable params: 0\n",
      "_________________________________________________________________\n"
     ]
    }
   ],
   "source": [
    "# GRADED steps\n",
    "\n",
    "model = models.Sequential()\n",
    "#add a conv layer: 8 filters with size (4,4), stride (1,1), padding is 'same', activation function is 'relu', input_shape=(64,64,3), filter initializer is 'glorot_uniform'\n",
    "model.add(tf.keras.layers.Conv2D(8,\n",
    "                                 (4,4),\n",
    "                                 strides=(1,1), \n",
    "                                 padding='same', activation='relu', \n",
    "                                 input_shape=(64,64,3), \n",
    "                                 kernel_initializer='glorot_uniform',\n",
    "                                 kernel_regularizer=tf.keras.regularizers.L2(0.01)))\n",
    "#add a MAXPOOL layer: window 8x8, sride (8,8), padding 'same'\n",
    "model.add(tf.keras.layers.MaxPooling2D(pool_size=(8,8), strides=(8,8), padding='same'))\n",
    "\n",
    "### START CODE HERE ###\n",
    "#add the second conv layer: 16 filters with size (2,2), stride (1,1), padding is \"same\", activation function is 'relu', filter initializer is 'glorot_uniform', input shape will be decided automatically\n",
    "model.add(tf.keras.layers.Conv2D(16,\n",
    "                                 (2,2),\n",
    "                                 strides=(1,1), \n",
    "                                 padding='same', activation='relu',\n",
    "                                kernel_initializer='glorot_uniform'))\n",
    "#add the second MAXPOOL layer: window 4x4, stride (4,4), padding 'same'\n",
    "model.add(tf.keras.layers.MaxPooling2D(pool_size=(4,4), strides=(4,4), padding='same'))\n",
    "### END CODE HERE ###\n",
    "\n",
    "model.summary()"
   ]
  },
  {
   "cell_type": "markdown",
   "metadata": {
    "id": "nOnPUuP0zJGt"
   },
   "source": [
    "**Expected Output**:\n",
    "\n",
    "![alt text](https://urldefense.com/v3/__https://drive.google.com/uc?id=16G8b6zw23HkPTSmKKboIVqB_ehiDE9BL__;!!PhOWcWs!lj_KcD0A6Xl-_k4Lj8Ll_SLpdbsvdvk2BUHx7Ca3ALRgep71u_2GAgTSv5pO1_y0ZRQV_so$ )"
   ]
  },
  {
   "cell_type": "markdown",
   "metadata": {
    "id": "5960XuFPzJGt"
   },
   "source": [
    "### 1.2 - Add Dense layers on top\n",
    "To complete our model, you will feed the last output tensor from the convolutional base (of shape (4, 4, 64)) into one or more Dense layers to perform classification. There are built-in functions that carry out these steps for you.\n",
    "\n",
    "- **tf.keras.layers.Flatten()**: this function flattens each example into a 1D vector while maintaining the batch-size. It returns a flattened tensor with shape [batch_size, k]. You can read the full documentation [here.](https://www.tensorflow.org/api_docs/python/tf/keras/layers/Flatten)\n",
    "- **tf.keras.layers.Dense(num_outputs):** It returns the output computed using a fully connected layer. You shall specify the number of outputs in 'num_outputs'. You can read the full documentation [here.](https://urldefense.com/v3/__https://www.tensorflow.org/api_docs/python/tf/keras/layers/Dense)\n",
    "In the last function above (`tf.keras.layers.Dense`), the fully connected layer automatically initializes weights in the graph and keeps on training them as you train the model. Hence, you did not need to initialize those weights when initializing the parameters. \n",
    "\n",
    "**Exercise**: \n",
    "\n",
    "Build the fully connected (Dense) layer on the Conv base: `CONV2D -> MAXPOOL -> CONV2D -> MAXPOOL -> FLATTEN -> DENSE`. You should use the functions above. \n",
    "\n",
    "- Flatten the previous output.\n",
    "- FULLYCONNECTED (Dense) layer: Apply a fully connected layer with activation function 'softmax'. Multi-class classification problems usually use 'softmax' as the activation function in the output layer if the target output is a 'one-hot' function."
   ]
  },
  {
   "cell_type": "code",
   "execution_count": 18,
   "metadata": {
    "colab": {
     "base_uri": "https://localhost:8080/"
    },
    "executionInfo": {
     "elapsed": 14,
     "status": "ok",
     "timestamp": 1628106960376,
     "user": {
      "displayName": "Lichun Li",
      "photoUrl": "",
      "userId": "15395584703944545137"
     },
     "user_tz": 240
    },
    "id": "_6JwEDs0zJGt",
    "outputId": "bc7a88d8-9188-4750-cda6-79920a694e4c"
   },
   "outputs": [
    {
     "name": "stdout",
     "output_type": "stream",
     "text": [
      "Model: \"sequential_1\"\n",
      "_________________________________________________________________\n",
      " Layer (type)                Output Shape              Param #   \n",
      "=================================================================\n",
      " conv2d_2 (Conv2D)           (None, 64, 64, 8)         392       \n",
      "                                                                 \n",
      " max_pooling2d_1 (MaxPooling  (None, 8, 8, 8)          0         \n",
      " 2D)                                                             \n",
      "                                                                 \n",
      " conv2d_3 (Conv2D)           (None, 8, 8, 16)          528       \n",
      "                                                                 \n",
      " max_pooling2d_2 (MaxPooling  (None, 2, 2, 16)         0         \n",
      " 2D)                                                             \n",
      "                                                                 \n",
      " flatten (Flatten)           (None, 64)                0         \n",
      "                                                                 \n",
      " flatten_1 (Flatten)         (None, 64)                0         \n",
      "                                                                 \n",
      " flatten_2 (Flatten)         (None, 64)                0         \n",
      "                                                                 \n",
      " flatten_3 (Flatten)         (None, 64)                0         \n",
      "                                                                 \n",
      " flatten_4 (Flatten)         (None, 64)                0         \n",
      "                                                                 \n",
      " dense (Dense)               (None, 6)                 390       \n",
      "                                                                 \n",
      " activation (Activation)     (None, 6)                 0         \n",
      "                                                                 \n",
      "=================================================================\n",
      "Total params: 1,310\n",
      "Trainable params: 1,310\n",
      "Non-trainable params: 0\n",
      "_________________________________________________________________\n"
     ]
    }
   ],
   "source": [
    "# add the FLATTEN layer: tf.keras.layers.Flatten()\n",
    "from keras.layers import Activation, Dense\n",
    "model.add(tf.keras.layers.Flatten())\n",
    "\n",
    "### START CODE HERE ###\n",
    "# Please add a dense layer with 6 neurons, and activation function 'softmax'\n",
    "model.add(Dense(6))\n",
    "model.add(Activation('softmax'))\n",
    "### END CODE HERE ###\n",
    "\n",
    "model.summary()"
   ]
  },
  {
   "cell_type": "markdown",
   "metadata": {
    "id": "KMjW-h1wzJGu"
   },
   "source": [
    "As you can see, our (2, 2, 16) outputs were flattened into vectors of shape (64) before going through the Dense layer.\n",
    "\n",
    "**Expected Output**:\n",
    "\n",
    "![alt text](https://urldefense.com/v3/__https://drive.google.com/uc?id=15jEv_qKYS0r95tiXQbcuS6PxlBnKcb4R__;!!PhOWcWs!lj_KcD0A6Xl-_k4Lj8Ll_SLpdbsvdvk2BUHx7Ca3ALRgep71u_2GAgTSv5pO1_y0UEdgN_4$ )"
   ]
  },
  {
   "cell_type": "markdown",
   "metadata": {
    "id": "ZfZqriITzJGu"
   },
   "source": [
    "### 1.3 - Compile and train the model\n",
    "When compiling the model, you will specify the optimizer, the loss function, and the metric you are going to use. \n",
    "\n",
    "- **compile(optimizer=None, loss=None, metrics=None)** You can check the full documentation  [here.](https://urldefense.com/v3/__https://www.tensorflow.org/api_docs/python/tf/keras/Model*compile)\n",
    "- **tf.keras.losses.CategoricalCrossentropy()** You can check the full documentation  [here.](https://urldefense.com/v3/__https://www.tensorflow.org/api_docs/python/tf/keras/losses/CategoricalCrossentropy)\n",
    "\n",
    "**Exercise**: Compile the model using 'tf.keras.optimizers.Adam(learning_rate=None)' as the optimizer, 'tf.keras.losses.CategoricalCrossentropy()' as the loss function, and 'accuracy' as the metrics.\n",
    "\n",
    "Now, we are ready to train the model. During the training process, you need to specify training input, training output, epoch number and batch size. The samples will be shuffled by default. \n",
    "\n",
    "-**model.fit(x=None, y=None, batch_size=None, epochs=1,validation_split=0.0)**\n",
    "\n",
    "**Exercise**: train the model with epoch number no more than 400. \n",
    "\n",
    "Please adjust the learning_rate in the adam optimizer and the batch_size in 'model.fit' such that the accuracy of the training set is above 92% at the end of the training.\n"
   ]
  },
  {
   "cell_type": "code",
   "execution_count": 41,
   "metadata": {
    "colab": {
     "base_uri": "https://localhost:8080/",
     "height": 1000
    },
    "executionInfo": {
     "elapsed": 323034,
     "status": "ok",
     "timestamp": 1628109759226,
     "user": {
      "displayName": "Lichun Li",
      "photoUrl": "",
      "userId": "15395584703944545137"
     },
     "user_tz": 240
    },
    "id": "7F1KoZMzzJGu",
    "outputId": "48f0c64f-0441-4402-d5aa-2db4d5ca2444"
   },
   "outputs": [
    {
     "name": "stdout",
     "output_type": "stream",
     "text": [
      "Epoch 1/100\n",
      "17/17 [==============================] - 2s 53ms/step - loss: 1.1571 - accuracy: 0.6491\n",
      "Epoch 2/100\n",
      "17/17 [==============================] - 1s 52ms/step - loss: 0.7652 - accuracy: 0.7648\n",
      "Epoch 3/100\n",
      "17/17 [==============================] - 1s 51ms/step - loss: 0.6829 - accuracy: 0.8102\n",
      "Epoch 4/100\n",
      "17/17 [==============================] - 1s 52ms/step - loss: 0.6551 - accuracy: 0.8241\n",
      "Epoch 5/100\n",
      "17/17 [==============================] - 1s 60ms/step - loss: 0.6650 - accuracy: 0.8065\n",
      "Epoch 6/100\n",
      "17/17 [==============================] - 1s 57ms/step - loss: 0.6556 - accuracy: 0.8120\n",
      "Epoch 7/100\n",
      "17/17 [==============================] - 1s 53ms/step - loss: 0.6166 - accuracy: 0.8250\n",
      "Epoch 8/100\n",
      "17/17 [==============================] - 1s 52ms/step - loss: 0.6543 - accuracy: 0.8204\n",
      "Epoch 9/100\n",
      "17/17 [==============================] - 1s 64ms/step - loss: 0.6406 - accuracy: 0.8102\n",
      "Epoch 10/100\n",
      "17/17 [==============================] - 1s 62ms/step - loss: 0.5997 - accuracy: 0.8287\n",
      "Epoch 11/100\n",
      "17/17 [==============================] - 1s 66ms/step - loss: 0.6385 - accuracy: 0.8139\n",
      "Epoch 12/100\n",
      "17/17 [==============================] - 1s 64ms/step - loss: 0.5999 - accuracy: 0.8269\n",
      "Epoch 13/100\n",
      "17/17 [==============================] - 1s 64ms/step - loss: 0.6542 - accuracy: 0.7852\n",
      "Epoch 14/100\n",
      "17/17 [==============================] - 1s 64ms/step - loss: 0.6063 - accuracy: 0.8315\n",
      "Epoch 15/100\n",
      "17/17 [==============================] - 1s 63ms/step - loss: 0.5660 - accuracy: 0.8528\n",
      "Epoch 16/100\n",
      "17/17 [==============================] - 1s 64ms/step - loss: 0.5782 - accuracy: 0.8361\n",
      "Epoch 17/100\n",
      "17/17 [==============================] - 1s 65ms/step - loss: 0.6059 - accuracy: 0.8176\n",
      "Epoch 18/100\n",
      "17/17 [==============================] - 1s 64ms/step - loss: 0.5460 - accuracy: 0.8519\n",
      "Epoch 19/100\n",
      "17/17 [==============================] - 1s 64ms/step - loss: 0.5663 - accuracy: 0.8333\n",
      "Epoch 20/100\n",
      "17/17 [==============================] - 1s 64ms/step - loss: 0.5303 - accuracy: 0.8694\n",
      "Epoch 21/100\n",
      "17/17 [==============================] - 1s 65ms/step - loss: 0.5923 - accuracy: 0.8250\n",
      "Epoch 22/100\n",
      "17/17 [==============================] - 1s 66ms/step - loss: 0.5756 - accuracy: 0.8287\n",
      "Epoch 23/100\n",
      "17/17 [==============================] - 1s 65ms/step - loss: 0.6465 - accuracy: 0.7806\n",
      "Epoch 24/100\n",
      "17/17 [==============================] - 1s 64ms/step - loss: 0.5344 - accuracy: 0.8472\n",
      "Epoch 25/100\n",
      "17/17 [==============================] - 1s 62ms/step - loss: 0.5045 - accuracy: 0.8593\n",
      "Epoch 26/100\n",
      "17/17 [==============================] - 1s 61ms/step - loss: 0.4955 - accuracy: 0.8769\n",
      "Epoch 27/100\n",
      "17/17 [==============================] - 1s 62ms/step - loss: 0.5109 - accuracy: 0.8620\n",
      "Epoch 28/100\n",
      "17/17 [==============================] - 1s 65ms/step - loss: 0.4971 - accuracy: 0.8676\n",
      "Epoch 29/100\n",
      "17/17 [==============================] - 1s 64ms/step - loss: 0.4779 - accuracy: 0.8806\n",
      "Epoch 30/100\n",
      "17/17 [==============================] - 1s 65ms/step - loss: 0.4822 - accuracy: 0.8722\n",
      "Epoch 31/100\n",
      "17/17 [==============================] - 1s 65ms/step - loss: 0.4630 - accuracy: 0.8806\n",
      "Epoch 32/100\n",
      "17/17 [==============================] - 1s 65ms/step - loss: 0.4768 - accuracy: 0.8657\n",
      "Epoch 33/100\n",
      "17/17 [==============================] - 1s 63ms/step - loss: 0.5045 - accuracy: 0.8667\n",
      "Epoch 34/100\n",
      "17/17 [==============================] - 1s 66ms/step - loss: 0.4695 - accuracy: 0.8639\n",
      "Epoch 35/100\n",
      "17/17 [==============================] - 1s 64ms/step - loss: 0.4624 - accuracy: 0.8861\n",
      "Epoch 36/100\n",
      "17/17 [==============================] - 1s 65ms/step - loss: 0.4626 - accuracy: 0.8713\n",
      "Epoch 37/100\n",
      "17/17 [==============================] - 1s 64ms/step - loss: 0.4703 - accuracy: 0.8843\n",
      "Epoch 38/100\n",
      "17/17 [==============================] - 1s 65ms/step - loss: 0.5314 - accuracy: 0.8389\n",
      "Epoch 39/100\n",
      "17/17 [==============================] - 1s 63ms/step - loss: 0.4734 - accuracy: 0.8676\n",
      "Epoch 40/100\n",
      "17/17 [==============================] - 1s 54ms/step - loss: 0.4741 - accuracy: 0.8722\n",
      "Epoch 41/100\n",
      "17/17 [==============================] - 1s 63ms/step - loss: 0.4479 - accuracy: 0.8898\n",
      "Epoch 42/100\n",
      "17/17 [==============================] - 1s 66ms/step - loss: 0.4420 - accuracy: 0.8769\n",
      "Epoch 43/100\n",
      "17/17 [==============================] - 1s 66ms/step - loss: 0.4505 - accuracy: 0.8694\n",
      "Epoch 44/100\n",
      "17/17 [==============================] - 1s 66ms/step - loss: 0.4453 - accuracy: 0.8667 0s - loss: 0.4422 - accuracy: 0.\n",
      "Epoch 45/100\n",
      "17/17 [==============================] - 1s 65ms/step - loss: 0.4245 - accuracy: 0.8870\n",
      "Epoch 46/100\n",
      "17/17 [==============================] - 1s 65ms/step - loss: 0.4015 - accuracy: 0.9028\n",
      "Epoch 47/100\n",
      "17/17 [==============================] - 1s 66ms/step - loss: 0.3938 - accuracy: 0.9019\n",
      "Epoch 48/100\n",
      "17/17 [==============================] - 1s 67ms/step - loss: 0.4185 - accuracy: 0.8917\n",
      "Epoch 49/100\n",
      "17/17 [==============================] - 1s 65ms/step - loss: 0.4285 - accuracy: 0.8843\n",
      "Epoch 50/100\n",
      "17/17 [==============================] - 1s 66ms/step - loss: 0.5002 - accuracy: 0.8500\n",
      "Epoch 51/100\n",
      "17/17 [==============================] - 1s 65ms/step - loss: 0.4360 - accuracy: 0.8713\n",
      "Epoch 52/100\n",
      "17/17 [==============================] - 1s 65ms/step - loss: 0.4103 - accuracy: 0.8833\n",
      "Epoch 53/100\n",
      "17/17 [==============================] - 1s 66ms/step - loss: 0.4098 - accuracy: 0.8852\n",
      "Epoch 54/100\n",
      "17/17 [==============================] - 1s 55ms/step - loss: 0.4029 - accuracy: 0.8935\n",
      "Epoch 55/100\n",
      "17/17 [==============================] - 1s 58ms/step - loss: 0.3951 - accuracy: 0.8926\n",
      "Epoch 56/100\n",
      "17/17 [==============================] - 1s 61ms/step - loss: 0.3895 - accuracy: 0.8917\n",
      "Epoch 57/100\n",
      "17/17 [==============================] - 1s 66ms/step - loss: 0.4056 - accuracy: 0.8861\n",
      "Epoch 58/100\n",
      "17/17 [==============================] - 1s 65ms/step - loss: 0.4002 - accuracy: 0.8898\n",
      "Epoch 59/100\n",
      "17/17 [==============================] - 1s 65ms/step - loss: 0.4440 - accuracy: 0.8694\n",
      "Epoch 60/100\n",
      "17/17 [==============================] - 1s 65ms/step - loss: 0.4295 - accuracy: 0.8750\n",
      "Epoch 61/100\n",
      "17/17 [==============================] - 1s 65ms/step - loss: 0.4240 - accuracy: 0.8694\n",
      "Epoch 62/100\n",
      "17/17 [==============================] - 1s 67ms/step - loss: 0.3718 - accuracy: 0.9037\n",
      "Epoch 63/100\n",
      "17/17 [==============================] - 1s 66ms/step - loss: 0.3553 - accuracy: 0.9157\n",
      "Epoch 64/100\n",
      "17/17 [==============================] - 1s 66ms/step - loss: 0.3643 - accuracy: 0.9019\n",
      "Epoch 65/100\n",
      "17/17 [==============================] - 1s 64ms/step - loss: 0.3846 - accuracy: 0.8926\n",
      "Epoch 66/100\n",
      "17/17 [==============================] - 1s 65ms/step - loss: 0.4050 - accuracy: 0.8889\n",
      "Epoch 67/100\n",
      "17/17 [==============================] - 1s 65ms/step - loss: 0.3908 - accuracy: 0.8963\n",
      "Epoch 68/100\n",
      "17/17 [==============================] - 1s 62ms/step - loss: 0.3787 - accuracy: 0.8963\n",
      "Epoch 69/100\n",
      "17/17 [==============================] - 1s 61ms/step - loss: 0.3470 - accuracy: 0.9130\n",
      "Epoch 70/100\n",
      "17/17 [==============================] - 1s 53ms/step - loss: 0.3540 - accuracy: 0.9046\n",
      "Epoch 71/100\n",
      "17/17 [==============================] - 1s 62ms/step - loss: 0.3664 - accuracy: 0.8972\n",
      "Epoch 72/100\n",
      "17/17 [==============================] - 1s 64ms/step - loss: 0.3273 - accuracy: 0.9269\n",
      "Epoch 73/100\n",
      "17/17 [==============================] - 1s 64ms/step - loss: 0.3481 - accuracy: 0.9028\n",
      "Epoch 74/100\n",
      "17/17 [==============================] - 1s 65ms/step - loss: 0.3438 - accuracy: 0.9028\n",
      "Epoch 75/100\n",
      "17/17 [==============================] - 1s 63ms/step - loss: 0.3544 - accuracy: 0.9074\n",
      "Epoch 76/100\n",
      "17/17 [==============================] - 1s 64ms/step - loss: 0.3335 - accuracy: 0.9176\n",
      "Epoch 77/100\n",
      "17/17 [==============================] - 1s 65ms/step - loss: 0.3691 - accuracy: 0.8944 0s - loss: 0.3\n",
      "Epoch 78/100\n",
      "17/17 [==============================] - 1s 67ms/step - loss: 0.3762 - accuracy: 0.8907\n",
      "Epoch 79/100\n",
      "17/17 [==============================] - 1s 62ms/step - loss: 0.3376 - accuracy: 0.9157\n",
      "Epoch 80/100\n",
      "17/17 [==============================] - 1s 65ms/step - loss: 0.3477 - accuracy: 0.9065\n",
      "Epoch 81/100\n"
     ]
    },
    {
     "name": "stdout",
     "output_type": "stream",
     "text": [
      "17/17 [==============================] - 1s 67ms/step - loss: 0.3446 - accuracy: 0.9074 0s - loss: 0.3668 - \n",
      "Epoch 82/100\n",
      "17/17 [==============================] - 1s 64ms/step - loss: 0.3346 - accuracy: 0.9139\n",
      "Epoch 83/100\n",
      "17/17 [==============================] - 1s 61ms/step - loss: 0.3280 - accuracy: 0.9139\n",
      "Epoch 84/100\n",
      "17/17 [==============================] - 1s 61ms/step - loss: 0.3620 - accuracy: 0.9009\n",
      "Epoch 85/100\n",
      "17/17 [==============================] - 1s 62ms/step - loss: 0.3379 - accuracy: 0.9102\n",
      "Epoch 86/100\n",
      "17/17 [==============================] - 1s 65ms/step - loss: 0.4692 - accuracy: 0.8491\n",
      "Epoch 87/100\n",
      "17/17 [==============================] - 1s 66ms/step - loss: 0.3965 - accuracy: 0.8852\n",
      "Epoch 88/100\n",
      "17/17 [==============================] - 1s 68ms/step - loss: 0.3668 - accuracy: 0.8981\n",
      "Epoch 89/100\n",
      "17/17 [==============================] - 1s 70ms/step - loss: 0.3118 - accuracy: 0.9176\n",
      "Epoch 90/100\n",
      "17/17 [==============================] - 1s 70ms/step - loss: 0.3369 - accuracy: 0.9056\n",
      "Epoch 91/100\n",
      "17/17 [==============================] - 1s 69ms/step - loss: 0.3257 - accuracy: 0.9278\n",
      "Epoch 92/100\n",
      "17/17 [==============================] - 1s 70ms/step - loss: 0.3308 - accuracy: 0.9130\n",
      "Epoch 93/100\n",
      "17/17 [==============================] - 1s 64ms/step - loss: 0.3205 - accuracy: 0.9185\n",
      "Epoch 94/100\n",
      "17/17 [==============================] - 1s 67ms/step - loss: 0.3620 - accuracy: 0.9065\n",
      "Epoch 95/100\n",
      "17/17 [==============================] - 1s 68ms/step - loss: 0.3250 - accuracy: 0.9176\n",
      "Epoch 96/100\n",
      "17/17 [==============================] - 1s 68ms/step - loss: 0.3103 - accuracy: 0.9296\n",
      "Epoch 97/100\n",
      "17/17 [==============================] - 1s 64ms/step - loss: 0.3128 - accuracy: 0.9204\n",
      "Epoch 98/100\n",
      "17/17 [==============================] - 1s 58ms/step - loss: 0.2921 - accuracy: 0.9269\n",
      "Epoch 99/100\n",
      "17/17 [==============================] - 1s 60ms/step - loss: 0.2948 - accuracy: 0.9287\n",
      "Epoch 100/100\n",
      "17/17 [==============================] - 1s 67ms/step - loss: 0.3096 - accuracy: 0.9315\n"
     ]
    },
    {
     "data": {
      "text/plain": [
       "<matplotlib.legend.Legend at 0x19ee13f8490>"
      ]
     },
     "execution_count": 41,
     "metadata": {},
     "output_type": "execute_result"
    },
    {
     "data": {
      "image/png": "[encoded data removed]",
      "text/plain": [
       "<Figure size 432x288 with 1 Axes>"
      ]
     },
     "metadata": {
      "needs_background": "light"
     },
     "output_type": "display_data"
    }
   ],
   "source": [
    "# GRADED FUNCTION: compile the model \n",
    "\n",
    "# Compile the model using 'adam' as the optimizer, 'tf.keras.losses.CategoricalCrossentropy()' as the loss function, and 'accuracy' as the metrics.\n",
    "# from tensorflow.keras.optimizers import adam_v2\n",
    "### START CODE HERE ### \n",
    "model.compile(optimizer=tf.keras.optimizers.Adam(learning_rate=0.01),\n",
    "          loss=tf.keras.losses.CategoricalCrossentropy(),\n",
    "          metrics='accuracy')\n",
    "### END CODE HERE ###\n",
    "\n",
    "# GRADED FUNCTION: train the model \n",
    "\n",
    "# train the model with batch size = 64, and epoch number = 100.\n",
    "\n",
    "### START CODE HERE ### \n",
    "history = model.fit(x=X_train, y=Y_train, batch_size=64, epochs=100,validation_split=0.0)\n",
    "### END CODE HERE ###\n",
    "\n",
    "## plot the training history\n",
    "plt.plot(history.history['loss'], label='loss')\n",
    "# plt.plot(history.history['val_loss'], label='val_loss')\n",
    "plt.xlabel('Epoch')\n",
    "plt.ylabel('Loss')\n",
    "#plt.ylim([0.5, 1])\n",
    "plt.legend(loc='lower right')\n",
    "#print('The training accuracy is', history.history['accuracy'][-1])"
   ]
  },
  {
   "cell_type": "code",
   "execution_count": 42,
   "metadata": {
    "colab": {
     "base_uri": "https://localhost:8080/"
    },
    "executionInfo": {
     "elapsed": 1223,
     "status": "ok",
     "timestamp": 1628110015833,
     "user": {
      "displayName": "Lichun Li",
      "photoUrl": "",
      "userId": "15395584703944545137"
     },
     "user_tz": 240
    },
    "id": "Jx0k1xiMzJGv",
    "outputId": "62cb7d2d-d169-4e60-cf97-b46d889286f6"
   },
   "outputs": [
    {
     "name": "stdout",
     "output_type": "stream",
     "text": [
      "4/4 [==============================] - 0s 14ms/step - loss: 0.5188 - accuracy: 0.8250\n"
     ]
    }
   ],
   "source": [
    "# Now let's test your model in the test data to see how it works.\n",
    "test_loss, test_acc = model.evaluate(X_test,  Y_test)\n",
    "model.save('my_model.h5')"
   ]
  },
  {
   "cell_type": "markdown",
   "metadata": {
    "id": "4p0jkE1rzJGv"
   },
   "source": [
    "**Expected output**\n",
    "accuracy shall be higher than 0.75.\n",
    "\n",
    "Congratulations! You have finised the assignment and built a model that recognizes SIGN language with almost 75% accuracy on the test set. You probably want to save your hard work, the trained model, using `model.save('my_model.h5')`. You can later load the saved model by the command `model = load_model('my_model.h5')`\n",
    "\n",
    "Once again, here's a thumbs up for your work! "
   ]
  },
  {
   "cell_type": "code",
   "execution_count": 43,
   "metadata": {
    "colab": {
     "base_uri": "https://localhost:8080/",
     "height": 286
    },
    "executionInfo": {
     "elapsed": 1736,
     "status": "ok",
     "timestamp": 1628107740535,
     "user": {
      "displayName": "Lichun Li",
      "photoUrl": "",
      "userId": "15395584703944545137"
     },
     "user_tz": 240
    },
    "id": "wzcz9l8szJGv",
    "outputId": "0b227f5a-9262-40a6-cad5-6ef616fba89e",
    "scrolled": true,
    "tags": []
   },
   "outputs": [
    {
     "name": "stdout",
     "output_type": "stream",
     "text": [
      "Populating the interactive namespace from numpy and matplotlib\n"
     ]
    },
    {
     "ename": "FileNotFoundError",
     "evalue": "[Errno 2] No such file or directory: 'images/thumbs_up.jpg'",
     "output_type": "error",
     "traceback": [
      "\u001b[1;31m---------------------------------------------------------------------------\u001b[0m",
      "\u001b[1;31mFileNotFoundError\u001b[0m                         Traceback (most recent call last)",
      "\u001b[1;32m<ipython-input-43-a2be44b468e1>\u001b[0m in \u001b[0;36m<module>\u001b[1;34m\u001b[0m\n\u001b[0;32m      1\u001b[0m \u001b[0mget_ipython\u001b[0m\u001b[1;33m(\u001b[0m\u001b[1;33m)\u001b[0m\u001b[1;33m.\u001b[0m\u001b[0mrun_line_magic\u001b[0m\u001b[1;33m(\u001b[0m\u001b[1;34m'pylab'\u001b[0m\u001b[1;33m,\u001b[0m \u001b[1;34m'inline'\u001b[0m\u001b[1;33m)\u001b[0m\u001b[1;33m\u001b[0m\u001b[1;33m\u001b[0m\u001b[0m\n\u001b[0;32m      2\u001b[0m \u001b[1;32mimport\u001b[0m \u001b[0mmatplotlib\u001b[0m\u001b[1;33m.\u001b[0m\u001b[0mimage\u001b[0m \u001b[1;32mas\u001b[0m \u001b[0mmpimg\u001b[0m\u001b[1;33m\u001b[0m\u001b[1;33m\u001b[0m\u001b[0m\n\u001b[1;32m----> 3\u001b[1;33m \u001b[0mimg\u001b[0m \u001b[1;33m=\u001b[0m \u001b[0mmpimg\u001b[0m\u001b[1;33m.\u001b[0m\u001b[0mimread\u001b[0m\u001b[1;33m(\u001b[0m\u001b[1;34m'images/thumbs_up.jpg'\u001b[0m\u001b[1;33m)\u001b[0m\u001b[1;33m\u001b[0m\u001b[1;33m\u001b[0m\u001b[0m\n\u001b[0m\u001b[0;32m      4\u001b[0m \u001b[0mimgplot\u001b[0m \u001b[1;33m=\u001b[0m \u001b[0mplt\u001b[0m\u001b[1;33m.\u001b[0m\u001b[0mimshow\u001b[0m\u001b[1;33m(\u001b[0m\u001b[0mimg\u001b[0m\u001b[1;33m)\u001b[0m\u001b[1;33m\u001b[0m\u001b[1;33m\u001b[0m\u001b[0m\n\u001b[0;32m      5\u001b[0m \u001b[0mplt\u001b[0m\u001b[1;33m.\u001b[0m\u001b[0mshow\u001b[0m\u001b[1;33m(\u001b[0m\u001b[1;33m)\u001b[0m\u001b[1;33m\u001b[0m\u001b[1;33m\u001b[0m\u001b[0m\n",
      "\u001b[1;32m~\\anaconda3\\lib\\site-packages\\matplotlib\\image.py\u001b[0m in \u001b[0;36mimread\u001b[1;34m(fname, format)\u001b[0m\n\u001b[0;32m   1488\u001b[0m                     \u001b[0mresponse\u001b[0m \u001b[1;33m=\u001b[0m \u001b[0mio\u001b[0m\u001b[1;33m.\u001b[0m\u001b[0mBytesIO\u001b[0m\u001b[1;33m(\u001b[0m\u001b[0mresponse\u001b[0m\u001b[1;33m.\u001b[0m\u001b[0mread\u001b[0m\u001b[1;33m(\u001b[0m\u001b[1;33m)\u001b[0m\u001b[1;33m)\u001b[0m\u001b[1;33m\u001b[0m\u001b[1;33m\u001b[0m\u001b[0m\n\u001b[0;32m   1489\u001b[0m                 \u001b[1;32mreturn\u001b[0m \u001b[0mimread\u001b[0m\u001b[1;33m(\u001b[0m\u001b[0mresponse\u001b[0m\u001b[1;33m,\u001b[0m \u001b[0mformat\u001b[0m\u001b[1;33m=\u001b[0m\u001b[0mext\u001b[0m\u001b[1;33m)\u001b[0m\u001b[1;33m\u001b[0m\u001b[1;33m\u001b[0m\u001b[0m\n\u001b[1;32m-> 1490\u001b[1;33m     \u001b[1;32mwith\u001b[0m \u001b[0mimg_open\u001b[0m\u001b[1;33m(\u001b[0m\u001b[0mfname\u001b[0m\u001b[1;33m)\u001b[0m \u001b[1;32mas\u001b[0m \u001b[0mimage\u001b[0m\u001b[1;33m:\u001b[0m\u001b[1;33m\u001b[0m\u001b[1;33m\u001b[0m\u001b[0m\n\u001b[0m\u001b[0;32m   1491\u001b[0m         return (_pil_png_to_float_array(image)\n\u001b[0;32m   1492\u001b[0m                 \u001b[1;32mif\u001b[0m \u001b[0misinstance\u001b[0m\u001b[1;33m(\u001b[0m\u001b[0mimage\u001b[0m\u001b[1;33m,\u001b[0m \u001b[0mPIL\u001b[0m\u001b[1;33m.\u001b[0m\u001b[0mPngImagePlugin\u001b[0m\u001b[1;33m.\u001b[0m\u001b[0mPngImageFile\u001b[0m\u001b[1;33m)\u001b[0m \u001b[1;32melse\u001b[0m\u001b[1;33m\u001b[0m\u001b[1;33m\u001b[0m\u001b[0m\n",
      "\u001b[1;32m~\\anaconda3\\lib\\site-packages\\PIL\\Image.py\u001b[0m in \u001b[0;36mopen\u001b[1;34m(fp, mode, formats)\u001b[0m\n\u001b[0;32m   2889\u001b[0m \u001b[1;33m\u001b[0m\u001b[0m\n\u001b[0;32m   2890\u001b[0m     \u001b[1;32mif\u001b[0m \u001b[0mfilename\u001b[0m\u001b[1;33m:\u001b[0m\u001b[1;33m\u001b[0m\u001b[1;33m\u001b[0m\u001b[0m\n\u001b[1;32m-> 2891\u001b[1;33m         \u001b[0mfp\u001b[0m \u001b[1;33m=\u001b[0m \u001b[0mbuiltins\u001b[0m\u001b[1;33m.\u001b[0m\u001b[0mopen\u001b[0m\u001b[1;33m(\u001b[0m\u001b[0mfilename\u001b[0m\u001b[1;33m,\u001b[0m \u001b[1;34m\"rb\"\u001b[0m\u001b[1;33m)\u001b[0m\u001b[1;33m\u001b[0m\u001b[1;33m\u001b[0m\u001b[0m\n\u001b[0m\u001b[0;32m   2892\u001b[0m         \u001b[0mexclusive_fp\u001b[0m \u001b[1;33m=\u001b[0m \u001b[1;32mTrue\u001b[0m\u001b[1;33m\u001b[0m\u001b[1;33m\u001b[0m\u001b[0m\n\u001b[0;32m   2893\u001b[0m \u001b[1;33m\u001b[0m\u001b[0m\n",
      "\u001b[1;31mFileNotFoundError\u001b[0m: [Errno 2] No such file or directory: 'images/thumbs_up.jpg'"
     ]
    }
   ],
   "source": [
    "%pylab inline\n",
    "import matplotlib.image as mpimg\n",
    "img = mpimg.imread('images/thumbs_up.jpg')\n",
    "imgplot = plt.imshow(img)\n",
    "plt.show()"
   ]
  },
  {
   "cell_type": "markdown",
   "metadata": {
    "id": "rlkKE87azJGv"
   },
   "source": [
    "**Challenge**: Can you try to adjust the hyper-parameters (learning_rate, epochs, batch_size, kernel_regularizer) to improve the accuracy to 85%? \n",
    "\n",
    "If you wish, feel free to play around with this dataset further. You can actually improve its accuracy by spending more time tuning the hyperparameters, or using regularization (as this model clearly has a high variance). It's quite easy to specify the regularization in the model. Simply, add option 'kernel_regularizer=tf.keras.regularizers.L2(0.001),' to the Conv and Dense layer"
   ]
  }
 ],
 "metadata": {
  "accelerator": "GPU",
  "colab": {
   "collapsed_sections": [],
   "name": "CNN basic.ipynb",
   "provenance": [
    {
     "file_id": "1oBjrNhsSI4RB9mXOcRcAlqzyj3syaGrl",
     "timestamp": 1647979370313
    }
   ]
  },
  "kernelspec": {
   "display_name": "Python 3",
   "language": "python",
   "name": "python3"
  },
  "language_info": {
   "codemirror_mode": {
    "name": "ipython",
    "version": 3
   },
   "file_extension": ".py",
   "mimetype": "text/x-python",
   "name": "python",
   "nbconvert_exporter": "python",
   "pygments_lexer": "ipython3",
   "version": "3.8.5"
  }
 },
 "nbformat": 4,
 "nbformat_minor": 1
}
